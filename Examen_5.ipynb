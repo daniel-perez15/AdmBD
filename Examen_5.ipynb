{
  "nbformat": 4,
  "nbformat_minor": 0,
  "metadata": {
    "colab": {
      "name": "Examen_5.ipynb",
      "provenance": [],
      "include_colab_link": true
    },
    "kernelspec": {
      "name": "python3",
      "display_name": "Python 3"
    }
  },
  "cells": [
    {
      "cell_type": "markdown",
      "metadata": {
        "id": "view-in-github",
        "colab_type": "text"
      },
      "source": [
        "<a href=\"https://colab.research.google.com/github/daniel-perez15/AdmBD/blob/master/Examen_5.ipynb\" target=\"_parent\"><img src=\"https://colab.research.google.com/assets/colab-badge.svg\" alt=\"Open In Colab\"/></a>"
      ]
    },
    {
      "cell_type": "code",
      "metadata": {
        "id": "IKDpX6sg6t_9",
        "colab_type": "code",
        "colab": {}
      },
      "source": [
        ""
      ],
      "execution_count": 0,
      "outputs": []
    },
    {
      "cell_type": "markdown",
      "metadata": {
        "id": "F3zpvLeo63qL",
        "colab_type": "text"
      },
      "source": [
        "Examen 5\n",
        "\n",
        "Sección 3: \n",
        "\n",
        "1. **¿Para qué sirve esa receta?**\n",
        "Sirven para mostrar la cantidad de uso de disco para una base de datos específica y sus tablas e índices asociados. \n",
        "\n",
        "2. **¿Cómo se ejecuta esa receta?**\n",
        "database_name=# SELECT pg_size_pretty(pg_database_size('database_name')) As\n",
        "fulldbsize; fulldbsize. De la misma manera mediante este codigo es posible saber el tamaño de las tablas existentes y sus índices asociados en la base de datos: SELECT relname as \"Table\",\n",
        "pg_size_pretty(pg_relation_size(relid)) As \" Table Size\",\n",
        "pg_size_pretty(pg_total_relation_size(relid) -\n",
        "pg_relation_size(relid)) as \"Index Size\"\n",
        "FROM pg_catalog.pg_statio_user_tables ORDER BY\n",
        "pg_total_relation_size(relid) DESC;\n",
        "\n",
        "3. **¿Cómo funciona esa receta?**\n",
        "Funciona a travez de las mediaciones del tamaño de las tablas existentes y sus indices asociados en la base de datos deseada, de este modo puede calcular el tamaño de la base. "
      ]
    }
  ]
}