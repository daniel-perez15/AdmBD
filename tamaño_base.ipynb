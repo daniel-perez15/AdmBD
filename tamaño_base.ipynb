{
  "nbformat": 4,
  "nbformat_minor": 0,
  "metadata": {
    "colab": {
      "name": "tamaño_base.ipynb",
      "provenance": [],
      "collapsed_sections": [],
      "include_colab_link": true
    },
    "kernelspec": {
      "name": "python2",
      "display_name": "Python 2"
    }
  },
  "cells": [
    {
      "cell_type": "markdown",
      "metadata": {
        "id": "view-in-github",
        "colab_type": "text"
      },
      "source": [
        "<a href=\"https://colab.research.google.com/github/daniel-perez15/AdmBD/blob/master/tama%C3%B1o_base.ipynb\" target=\"_parent\"><img src=\"https://colab.research.google.com/assets/colab-badge.svg\" alt=\"Open In Colab\"/></a>"
      ]
    },
    {
      "cell_type": "code",
      "metadata": {
        "id": "THW_QHDO3c2u",
        "colab_type": "code",
        "colab": {}
      },
      "source": [
        "//codigo realizado en C\n",
        "\n",
        "#include <stdio.h>\n",
        "#include <stdlib.h>\n",
        "\n",
        "int main(){\n",
        "\tint n,m,b,q,w,a,s,d,f,g,h,j,k,l,p,o,i,u,y,t,r;\n",
        "\tint calcular_fila=0;\n",
        "\tint calcular_pagina=0;\n",
        "\tdouble calcular_base=0;\n",
        "\t\n",
        "\tprintf(\"Calcular el tamaño de la base de datos.\\n\\n\");\n",
        "\tprintf(\"Nota importante: los datos proporcionados deben estan en bytes\\n\\n\");\n",
        "\t\n",
        "\tprintf(\"\\nIngrese el valor de el dato ID: \");\n",
        "\tscanf(\"%i\", &n);\n",
        "\tprintf(\"\\n\\nIngrese el valor de el dato Nombre del hospital: \");\n",
        "\tscanf(\"%i\", &m);\n",
        "\tprintf(\"\\n\\nIngrese el valor de el dato direccion: \");\n",
        "\tscanf(\"%i\", &b);\n",
        "\tprintf(\"\\n\\nIngrese el valor de el dato numero de trabajadores: \");\n",
        "\tscanf(\"%i\", &a);\n",
        "\tprintf(\"\\n\\nIngrese el valor de el dato especialidad: \");\n",
        "\tscanf(\"%i\", &s);\n",
        "\tprintf(\"\\n\\nIngrese el valor de el dato horario: \");\n",
        "\tscanf(\"%i\", &d);\n",
        "\tprintf(\"\\n\\nIngrese el valor de el dato pasiente: \");\n",
        "\tscanf(\"%i\", &f);\n",
        "\tprintf(\"\\n\\nIngrese el valor de el dato camas: \");\n",
        "\tscanf(\"%i\", &g);\n",
        "\tprintf(\"\\n\\nIngrese el valor de el dato salas: \");\n",
        "\tscanf(\"%i\", &h);\n",
        "\tprintf(\"\\n\\nIngrese el valor de el dato elevadores: \");\n",
        "\tscanf(\"%i\", &j);\n",
        "\tprintf(\"\\n\\nIngrese el valor de el dato edificios: \");\n",
        "\tscanf(\"%i\", &k);\n",
        "\tprintf(\"\\n\\nIngrese el valor de el dato extencion: \");\n",
        "\tscanf(\"%i\", &l);\n",
        "\tprintf(\"\\n\\nIngrese el valor de el dato telefono: \");\n",
        "\tscanf(\"%i\", &p);\n",
        "\tprintf(\"\\n\\nIngrese el valor de el dato correo: \");\n",
        "\tscanf(\"%i\", &o);\n",
        "\tprintf(\"\\n\\nIngrese el valor de el dato pagina web: \");\n",
        "\tscanf(\"%i\", &i);\n",
        "\tprintf(\"\\n\\nIngrese el valor de el dato director: \");\n",
        "\tscanf(\"%i\", &u);\n",
        "\tprintf(\"\\n\\nIngrese el valor de el dato sector publico/privado: \");\n",
        "\tscanf(\"%i\", &y);\n",
        "\tprintf(\"\\n\\nIngrese el valor de el dato ranking: \");\n",
        "\tscanf(\"%i\", &t);\n",
        "\tprintf(\"\\n\\nIngrese el valor de el dato fecha de apertura: \");\n",
        "\tscanf(\"%i\", &r);\n",
        "\tcalcular_fila=n+m+b+a+s+d+f+g+h+j+k+l+p+o+i+u+y+t+r;\n",
        "\t\n",
        "\tprintf(\"\\n\\nIngrese el numero de filas por pagina: \");\n",
        "\tscanf(\"%i\", &q);\n",
        "\tcalcular_pagina= calcular_fila*q;\n",
        "\t\n",
        "\tprintf(\"\\n\\nIngrese el numero de registros: \");\n",
        "\tscanf(\"%i\", &w);\n",
        "\tcalcular_base= calcular_pagina * w;\n",
        "\t\n",
        "\tprintf(\"\\n\\nEl valor de la fila es: %i bytes\", calcular_fila);\n",
        "\t\n",
        "\tprintf(\"\\n\\nEl valor de la pagina es: %i bytes\", calcular_pagina );\n",
        "\t\n",
        "\tprintf(\"\\n\\nEl valor de la pagina es: %i bytes\\n\", calcular_base );\n",
        "\t\n",
        "\t\n",
        "\t}"
      ],
      "execution_count": 0,
      "outputs": []
    }
  ]
}